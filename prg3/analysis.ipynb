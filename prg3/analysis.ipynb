{
 "cells": [
  {
   "cell_type": "code",
   "execution_count": 261,
   "metadata": {},
   "outputs": [],
   "source": [
    "import pandas as pd\n",
    "import numpy as np\n",
    "import numpy.ma as ma"
   ]
  },
  {
   "cell_type": "code",
   "execution_count": 262,
   "metadata": {},
   "outputs": [
    {
     "data": {
      "text/html": [
       "<div>\n",
       "<style scoped>\n",
       "    .dataframe tbody tr th:only-of-type {\n",
       "        vertical-align: middle;\n",
       "    }\n",
       "\n",
       "    .dataframe tbody tr th {\n",
       "        vertical-align: top;\n",
       "    }\n",
       "\n",
       "    .dataframe thead th {\n",
       "        text-align: right;\n",
       "    }\n",
       "</style>\n",
       "<table border=\"1\" class=\"dataframe\">\n",
       "  <thead>\n",
       "    <tr style=\"text-align: right;\">\n",
       "      <th></th>\n",
       "      <th>Salary</th>\n",
       "      <th>Job Satisfaction</th>\n",
       "      <th>Years of Experience</th>\n",
       "      <th>Employment Status</th>\n",
       "    </tr>\n",
       "  </thead>\n",
       "  <tbody>\n",
       "    <tr>\n",
       "      <th>0</th>\n",
       "      <td>56.217808</td>\n",
       "      <td>2.666196</td>\n",
       "      <td>7</td>\n",
       "      <td>stay</td>\n",
       "    </tr>\n",
       "    <tr>\n",
       "      <th>1</th>\n",
       "      <td>96.550001</td>\n",
       "      <td>5.877109</td>\n",
       "      <td>3</td>\n",
       "      <td>stay</td>\n",
       "    </tr>\n",
       "    <tr>\n",
       "      <th>2</th>\n",
       "      <td>81.239576</td>\n",
       "      <td>8.856513</td>\n",
       "      <td>14</td>\n",
       "      <td>stay</td>\n",
       "    </tr>\n",
       "    <tr>\n",
       "      <th>3</th>\n",
       "      <td>71.906094</td>\n",
       "      <td>7.590024</td>\n",
       "      <td>10</td>\n",
       "      <td>stay</td>\n",
       "    </tr>\n",
       "    <tr>\n",
       "      <th>4</th>\n",
       "      <td>40.921305</td>\n",
       "      <td>8.259050</td>\n",
       "      <td>16</td>\n",
       "      <td>stay</td>\n",
       "    </tr>\n",
       "    <tr>\n",
       "      <th>...</th>\n",
       "      <td>...</td>\n",
       "      <td>...</td>\n",
       "      <td>...</td>\n",
       "      <td>...</td>\n",
       "    </tr>\n",
       "    <tr>\n",
       "      <th>995</th>\n",
       "      <td>36.410745</td>\n",
       "      <td>6.912596</td>\n",
       "      <td>19</td>\n",
       "      <td>leave</td>\n",
       "    </tr>\n",
       "    <tr>\n",
       "      <th>996</th>\n",
       "      <td>94.211950</td>\n",
       "      <td>9.609532</td>\n",
       "      <td>1</td>\n",
       "      <td>stay</td>\n",
       "    </tr>\n",
       "    <tr>\n",
       "      <th>997</th>\n",
       "      <td>39.577304</td>\n",
       "      <td>1.620622</td>\n",
       "      <td>7</td>\n",
       "      <td>leave</td>\n",
       "    </tr>\n",
       "    <tr>\n",
       "      <th>998</th>\n",
       "      <td>96.516615</td>\n",
       "      <td>1.513492</td>\n",
       "      <td>17</td>\n",
       "      <td>stay</td>\n",
       "    </tr>\n",
       "    <tr>\n",
       "      <th>999</th>\n",
       "      <td>61.220404</td>\n",
       "      <td>3.539684</td>\n",
       "      <td>3</td>\n",
       "      <td>stay</td>\n",
       "    </tr>\n",
       "  </tbody>\n",
       "</table>\n",
       "<p>1000 rows × 4 columns</p>\n",
       "</div>"
      ],
      "text/plain": [
       "        Salary  Job Satisfaction  Years of Experience Employment Status\n",
       "0    56.217808          2.666196                    7              stay\n",
       "1    96.550001          5.877109                    3              stay\n",
       "2    81.239576          8.856513                   14              stay\n",
       "3    71.906094          7.590024                   10              stay\n",
       "4    40.921305          8.259050                   16              stay\n",
       "..         ...               ...                  ...               ...\n",
       "995  36.410745          6.912596                   19             leave\n",
       "996  94.211950          9.609532                    1              stay\n",
       "997  39.577304          1.620622                    7             leave\n",
       "998  96.516615          1.513492                   17              stay\n",
       "999  61.220404          3.539684                    3              stay\n",
       "\n",
       "[1000 rows x 4 columns]"
      ]
     },
     "execution_count": 262,
     "metadata": {},
     "output_type": "execute_result"
    }
   ],
   "source": [
    "# Load the dataset\n",
    "data = pd.read_csv(\"employee_data.csv\")\n",
    "data"
   ]
  },
  {
   "cell_type": "code",
   "execution_count": 263,
   "metadata": {},
   "outputs": [
    {
     "data": {
      "text/plain": [
       "Salary                 0\n",
       "Job Satisfaction       0\n",
       "Years of Experience    0\n",
       "Employment Status      0\n",
       "dtype: int64"
      ]
     },
     "execution_count": 263,
     "metadata": {},
     "output_type": "execute_result"
    }
   ],
   "source": [
    "# Check for missing values\n",
    "data.isnull().sum()"
   ]
  },
  {
   "cell_type": "code",
   "execution_count": 264,
   "metadata": {},
   "outputs": [],
   "source": [
    "from sklearn.model_selection import train_test_split\n",
    "X = data.drop(columns=[\"Employment Status\"])\n",
    "y = data[\"Employment Status\"]\n",
    "\n",
    "X_train, X_test, y_train, y_test = train_test_split(\n",
    "    X, y, test_size=0.1\n",
    ")"
   ]
  },
  {
   "cell_type": "code",
   "execution_count": 265,
   "metadata": {},
   "outputs": [],
   "source": [
    "def calculate_gini_impurity(y):\n",
    "    classes = np.unique(y)\n",
    "    gini = 0\n",
    "    total_samples = len(y)\n",
    "    for cls in classes:\n",
    "        p = np.sum(y == cls) / total_samples\n",
    "        gini += p * (1 - p)\n",
    "    return gini"
   ]
  },
  {
   "cell_type": "code",
   "execution_count": 266,
   "metadata": {},
   "outputs": [],
   "source": [
    "def calculate_entropy(y):\n",
    "    classes = np.unique(y)\n",
    "    entropy = 0\n",
    "    total_samples = len(y)\n",
    "    for cls in classes:\n",
    "        p = np.sum(y == cls) / total_samples\n",
    "        entropy -= p * np.log2(p)\n",
    "    return entropy"
   ]
  },
  {
   "cell_type": "code",
   "execution_count": 267,
   "metadata": {},
   "outputs": [],
   "source": [
    "class TreeNode:\n",
    "    def __init__(self, feature=None, threshold=None, left=None, right=None, value=None):\n",
    "        self.feature = feature\n",
    "        self.threshold = threshold\n",
    "        self.left = left\n",
    "        self.right = right\n",
    "        self.value = value\n"
   ]
  },
  {
   "cell_type": "code",
   "execution_count": 268,
   "metadata": {},
   "outputs": [],
   "source": [
    "class DecisionTree:\n",
    "    def __init__(self, max_depth=None):\n",
    "        self.root = None\n",
    "        self.criterion = \"gini\"\n",
    "        self.max_depth = max_depth\n",
    "\n",
    "    def _best_split(self, X, y):\n",
    "        best_gini = np.inf\n",
    "        best_feature_idx = None\n",
    "        best_threshold = None\n",
    "\n",
    "        for feature_idx in range(X.shape[1]):\n",
    "            thresholds = np.unique(X[:, feature_idx])\n",
    "            for threshold in thresholds:\n",
    "                left_indices = X[:, feature_idx] < threshold\n",
    "                right_indices = X[:, feature_idx] >= threshold\n",
    "\n",
    "                gini_left = calculate_gini_impurity(y[left_indices])\n",
    "                gini_right = calculate_gini_impurity(y[right_indices])\n",
    "                gini = (\n",
    "                        len(y[left_indices]) * gini_left\n",
    "                        + len(y[right_indices]) * gini_right\n",
    "                    ) / len(y)\n",
    "\n",
    "                if gini < best_gini:\n",
    "                    best_gini = gini\n",
    "                    best_feature_idx = feature_idx\n",
    "                    best_threshold = threshold\n",
    "\n",
    "        return best_feature_idx, best_threshold\n",
    "\n",
    "    def _build_tree(self, X, y, depth):\n",
    "        if len(np.unique(y)) == 1:\n",
    "            return TreeNode(value=y[0])\n",
    "\n",
    "        if self.max_depth is not None and depth >= self.max_depth:\n",
    "            return TreeNode(value=np.bincount(y).argmax())\n",
    "\n",
    "        best_feature_idx, best_threshold = self._best_split(X, y)\n",
    "\n",
    "        if best_feature_idx is None:\n",
    "            return TreeNode(value=np.bincount(y).argmax())\n",
    "\n",
    "        left_indices = X[:, best_feature_idx] < best_threshold\n",
    "        right_indices = X[:, best_feature_idx] >= best_threshold\n",
    "\n",
    "        left_subtree = self._build_tree(X[left_indices], y[left_indices], depth + 1)\n",
    "        right_subtree = self._build_tree(X[right_indices], y[right_indices], depth + 1)\n",
    "\n",
    "        return TreeNode(\n",
    "            feature=best_feature_idx,\n",
    "            threshold=best_threshold,\n",
    "            left=left_subtree,\n",
    "            right=right_subtree,\n",
    "        )\n",
    "\n",
    "    def fit(self, X, y):\n",
    "        self.root = self._build_tree(X, y, depth=0)\n",
    "\n",
    "    def _predict_one(self, x, node):\n",
    "        if node.value is not None:\n",
    "            return node.value\n",
    "        if x[node.feature] < node.threshold:\n",
    "            return self._predict_one(x, node.left)\n",
    "        else:\n",
    "            return self._predict_one(x, node.right)\n",
    "\n",
    "    def predict(self, X):\n",
    "        predictions = []\n",
    "        for x in X:\n",
    "            predictions.append(self._predict_one(x, self.root))\n",
    "        return np.array(predictions)"
   ]
  },
  {
   "cell_type": "code",
   "execution_count": 269,
   "metadata": {},
   "outputs": [
    {
     "name": "stdout",
     "output_type": "stream",
     "text": [
      "Accuracy: 1.0\n"
     ]
    }
   ],
   "source": [
    "tree = DecisionTree( max_depth=None)\n",
    "\n",
    "tree.fit(X_train.values, y_train.values)\n",
    "\n",
    "test_predictions = tree.predict(X_test.values)\n",
    "\n",
    "accuracy = np.mean(test_predictions == y_test)\n",
    "\n",
    "print(\"Accuracy:\", accuracy)"
   ]
  },
  {
   "cell_type": "code",
   "execution_count": 270,
   "metadata": {},
   "outputs": [
    {
     "name": "stdout",
     "output_type": "stream",
     "text": [
      "Predicted employment status: stay\n"
     ]
    }
   ],
   "source": [
    "new_employee_data = np.array([[75, 7, 5]])\n",
    "prediction = tree.predict(new_employee_data)\n",
    "print(\"Predicted employment status:\", prediction[0])"
   ]
  },
  {
   "cell_type": "code",
   "execution_count": 271,
   "metadata": {},
   "outputs": [
    {
     "name": "stderr",
     "output_type": "stream",
     "text": [
      "C:\\Users\\arshad\\AppData\\Local\\Temp\\ipykernel_20380\\1420175871.py:23: UserWarning: No data for colormapping provided via 'c'. Parameters 'cmap' will be ignored\n",
      "  plt.scatter(\n"
     ]
    },
    {
     "data": {
      "image/png": "[encoded data removed]",
      "text/plain": [
       "<Figure size 640x480 with 2 Axes>"
      ]
     },
     "metadata": {},
     "output_type": "display_data"
    }
   ],
   "source": [
    "import matplotlib.pyplot as plt\n",
    "\n",
    "data_5_years_exp = data[data[\"Years of Experience\"] == 5]\n",
    "\n",
    "x_min, x_max = (\n",
    "    data_5_years_exp[\"Salary\"].min() - 1,\n",
    "    data_5_years_exp[\"Salary\"].max() + 1,\n",
    ")\n",
    "y_min, y_max = (\n",
    "    data_5_years_exp[\"Job Satisfaction\"].min() - 1,\n",
    "    data_5_years_exp[\"Job Satisfaction\"].max() + 1,\n",
    ")\n",
    "xx, yy = np.meshgrid(np.arange(x_min, x_max, 0.1), np.arange(y_min, y_max, 0.1))\n",
    "\n",
    "mesh_data = np.c_[\n",
    "    xx.ravel(), yy.ravel(), np.ones_like(xx.ravel()) * 5\n",
    "]  \n",
    "Z = tree.predict(mesh_data).reshape(xx.shape)\n",
    "\n",
    "Z_numeric = np.where(Z == \"leave\", 0, 1)\n",
    "\n",
    "plt.contourf(xx, yy, Z_numeric, alpha=0.3, cmap=\"viridis\")\n",
    "plt.scatter(\n",
    "    data_5_years_exp[\"Salary\"],\n",
    "    data_5_years_exp[\"Job Satisfaction\"],\n",
    "    cmap=\"viridis\",\n",
    "    label=\"Data\",\n",
    ")\n",
    "plt.xlabel(\"Salary\")\n",
    "plt.ylabel(\"Job Satisfaction\")\n",
    "plt.title(\"Decision Boundary of Decision Tree Model\")\n",
    "plt.legend()\n",
    "plt.colorbar()\n",
    "plt.show()"
   ]
  },
  {
   "cell_type": "code",
   "execution_count": null,
   "metadata": {},
   "outputs": [],
   "source": []
  },
  {
   "cell_type": "code",
   "execution_count": null,
   "metadata": {},
   "outputs": [],
   "source": []
  },
  {
   "cell_type": "code",
   "execution_count": null,
   "metadata": {},
   "outputs": [],
   "source": []
  },
  {
   "cell_type": "code",
   "execution_count": null,
   "metadata": {},
   "outputs": [],
   "source": []
  },
  {
   "cell_type": "code",
   "execution_count": null,
   "metadata": {},
   "outputs": [],
   "source": []
  }
 ],
 "metadata": {
  "kernelspec": {
   "display_name": "Python 3",
   "language": "python",
   "name": "python3"
  },
  "language_info": {
   "codemirror_mode": {
    "name": "ipython",
    "version": 3
   },
   "file_extension": ".py",
   "mimetype": "text/x-python",
   "name": "python",
   "nbconvert_exporter": "python",
   "pygments_lexer": "ipython3",
   "version": "3.12.1"
  }
 },
 "nbformat": 4,
 "nbformat_minor": 2
}
