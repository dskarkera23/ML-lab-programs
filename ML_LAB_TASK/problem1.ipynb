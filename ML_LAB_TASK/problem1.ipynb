{
 "cells": [
  {
   "cell_type": "code",
   "execution_count": 270,
   "id": "3ebaa670",
   "metadata": {},
   "outputs": [],
   "source": [
    "import pandas as pd\n",
    "import matplotlib.pyplot as plt\n",
    "import seaborn as sns\n",
    "import numpy as np\n",
    "sns.set_theme(color_codes = True)"
   ]
  },
  {
   "cell_type": "code",
   "execution_count": 271,
   "id": "6a8e164a",
   "metadata": {},
   "outputs": [
    {
     "ename": "FileNotFoundError",
     "evalue": "[Errno 2] No such file or directory: 'car_data.csv'",
     "output_type": "error",
     "traceback": [
      "\u001b[1;31m---------------------------------------------------------------------------\u001b[0m",
      "\u001b[1;31mFileNotFoundError\u001b[0m                         Traceback (most recent call last)",
      "Cell \u001b[1;32mIn[271], line 1\u001b[0m\n\u001b[1;32m----> 1\u001b[0m df \u001b[38;5;241m=\u001b[39m pd\u001b[38;5;241m.\u001b[39mread_csv(\u001b[38;5;124m'\u001b[39m\u001b[38;5;124mcar_data.csv\u001b[39m\u001b[38;5;124m'\u001b[39m)\n\u001b[0;32m      2\u001b[0m df\u001b[38;5;241m.\u001b[39mhead()\n",
      "File \u001b[1;32m~\\anaconda3\\Lib\\site-packages\\pandas\\io\\parsers\\readers.py:948\u001b[0m, in \u001b[0;36mread_csv\u001b[1;34m(filepath_or_buffer, sep, delimiter, header, names, index_col, usecols, dtype, engine, converters, true_values, false_values, skipinitialspace, skiprows, skipfooter, nrows, na_values, keep_default_na, na_filter, verbose, skip_blank_lines, parse_dates, infer_datetime_format, keep_date_col, date_parser, date_format, dayfirst, cache_dates, iterator, chunksize, compression, thousands, decimal, lineterminator, quotechar, quoting, doublequote, escapechar, comment, encoding, encoding_errors, dialect, on_bad_lines, delim_whitespace, low_memory, memory_map, float_precision, storage_options, dtype_backend)\u001b[0m\n\u001b[0;32m    935\u001b[0m kwds_defaults \u001b[38;5;241m=\u001b[39m _refine_defaults_read(\n\u001b[0;32m    936\u001b[0m     dialect,\n\u001b[0;32m    937\u001b[0m     delimiter,\n\u001b[1;32m   (...)\u001b[0m\n\u001b[0;32m    944\u001b[0m     dtype_backend\u001b[38;5;241m=\u001b[39mdtype_backend,\n\u001b[0;32m    945\u001b[0m )\n\u001b[0;32m    946\u001b[0m kwds\u001b[38;5;241m.\u001b[39mupdate(kwds_defaults)\n\u001b[1;32m--> 948\u001b[0m \u001b[38;5;28;01mreturn\u001b[39;00m _read(filepath_or_buffer, kwds)\n",
      "File \u001b[1;32m~\\anaconda3\\Lib\\site-packages\\pandas\\io\\parsers\\readers.py:611\u001b[0m, in \u001b[0;36m_read\u001b[1;34m(filepath_or_buffer, kwds)\u001b[0m\n\u001b[0;32m    608\u001b[0m _validate_names(kwds\u001b[38;5;241m.\u001b[39mget(\u001b[38;5;124m\"\u001b[39m\u001b[38;5;124mnames\u001b[39m\u001b[38;5;124m\"\u001b[39m, \u001b[38;5;28;01mNone\u001b[39;00m))\n\u001b[0;32m    610\u001b[0m \u001b[38;5;66;03m# Create the parser.\u001b[39;00m\n\u001b[1;32m--> 611\u001b[0m parser \u001b[38;5;241m=\u001b[39m TextFileReader(filepath_or_buffer, \u001b[38;5;241m*\u001b[39m\u001b[38;5;241m*\u001b[39mkwds)\n\u001b[0;32m    613\u001b[0m \u001b[38;5;28;01mif\u001b[39;00m chunksize \u001b[38;5;129;01mor\u001b[39;00m iterator:\n\u001b[0;32m    614\u001b[0m     \u001b[38;5;28;01mreturn\u001b[39;00m parser\n",
      "File \u001b[1;32m~\\anaconda3\\Lib\\site-packages\\pandas\\io\\parsers\\readers.py:1448\u001b[0m, in \u001b[0;36mTextFileReader.__init__\u001b[1;34m(self, f, engine, **kwds)\u001b[0m\n\u001b[0;32m   1445\u001b[0m     \u001b[38;5;28mself\u001b[39m\u001b[38;5;241m.\u001b[39moptions[\u001b[38;5;124m\"\u001b[39m\u001b[38;5;124mhas_index_names\u001b[39m\u001b[38;5;124m\"\u001b[39m] \u001b[38;5;241m=\u001b[39m kwds[\u001b[38;5;124m\"\u001b[39m\u001b[38;5;124mhas_index_names\u001b[39m\u001b[38;5;124m\"\u001b[39m]\n\u001b[0;32m   1447\u001b[0m \u001b[38;5;28mself\u001b[39m\u001b[38;5;241m.\u001b[39mhandles: IOHandles \u001b[38;5;241m|\u001b[39m \u001b[38;5;28;01mNone\u001b[39;00m \u001b[38;5;241m=\u001b[39m \u001b[38;5;28;01mNone\u001b[39;00m\n\u001b[1;32m-> 1448\u001b[0m \u001b[38;5;28mself\u001b[39m\u001b[38;5;241m.\u001b[39m_engine \u001b[38;5;241m=\u001b[39m \u001b[38;5;28mself\u001b[39m\u001b[38;5;241m.\u001b[39m_make_engine(f, \u001b[38;5;28mself\u001b[39m\u001b[38;5;241m.\u001b[39mengine)\n",
      "File \u001b[1;32m~\\anaconda3\\Lib\\site-packages\\pandas\\io\\parsers\\readers.py:1705\u001b[0m, in \u001b[0;36mTextFileReader._make_engine\u001b[1;34m(self, f, engine)\u001b[0m\n\u001b[0;32m   1703\u001b[0m     \u001b[38;5;28;01mif\u001b[39;00m \u001b[38;5;124m\"\u001b[39m\u001b[38;5;124mb\u001b[39m\u001b[38;5;124m\"\u001b[39m \u001b[38;5;129;01mnot\u001b[39;00m \u001b[38;5;129;01min\u001b[39;00m mode:\n\u001b[0;32m   1704\u001b[0m         mode \u001b[38;5;241m+\u001b[39m\u001b[38;5;241m=\u001b[39m \u001b[38;5;124m\"\u001b[39m\u001b[38;5;124mb\u001b[39m\u001b[38;5;124m\"\u001b[39m\n\u001b[1;32m-> 1705\u001b[0m \u001b[38;5;28mself\u001b[39m\u001b[38;5;241m.\u001b[39mhandles \u001b[38;5;241m=\u001b[39m get_handle(\n\u001b[0;32m   1706\u001b[0m     f,\n\u001b[0;32m   1707\u001b[0m     mode,\n\u001b[0;32m   1708\u001b[0m     encoding\u001b[38;5;241m=\u001b[39m\u001b[38;5;28mself\u001b[39m\u001b[38;5;241m.\u001b[39moptions\u001b[38;5;241m.\u001b[39mget(\u001b[38;5;124m\"\u001b[39m\u001b[38;5;124mencoding\u001b[39m\u001b[38;5;124m\"\u001b[39m, \u001b[38;5;28;01mNone\u001b[39;00m),\n\u001b[0;32m   1709\u001b[0m     compression\u001b[38;5;241m=\u001b[39m\u001b[38;5;28mself\u001b[39m\u001b[38;5;241m.\u001b[39moptions\u001b[38;5;241m.\u001b[39mget(\u001b[38;5;124m\"\u001b[39m\u001b[38;5;124mcompression\u001b[39m\u001b[38;5;124m\"\u001b[39m, \u001b[38;5;28;01mNone\u001b[39;00m),\n\u001b[0;32m   1710\u001b[0m     memory_map\u001b[38;5;241m=\u001b[39m\u001b[38;5;28mself\u001b[39m\u001b[38;5;241m.\u001b[39moptions\u001b[38;5;241m.\u001b[39mget(\u001b[38;5;124m\"\u001b[39m\u001b[38;5;124mmemory_map\u001b[39m\u001b[38;5;124m\"\u001b[39m, \u001b[38;5;28;01mFalse\u001b[39;00m),\n\u001b[0;32m   1711\u001b[0m     is_text\u001b[38;5;241m=\u001b[39mis_text,\n\u001b[0;32m   1712\u001b[0m     errors\u001b[38;5;241m=\u001b[39m\u001b[38;5;28mself\u001b[39m\u001b[38;5;241m.\u001b[39moptions\u001b[38;5;241m.\u001b[39mget(\u001b[38;5;124m\"\u001b[39m\u001b[38;5;124mencoding_errors\u001b[39m\u001b[38;5;124m\"\u001b[39m, \u001b[38;5;124m\"\u001b[39m\u001b[38;5;124mstrict\u001b[39m\u001b[38;5;124m\"\u001b[39m),\n\u001b[0;32m   1713\u001b[0m     storage_options\u001b[38;5;241m=\u001b[39m\u001b[38;5;28mself\u001b[39m\u001b[38;5;241m.\u001b[39moptions\u001b[38;5;241m.\u001b[39mget(\u001b[38;5;124m\"\u001b[39m\u001b[38;5;124mstorage_options\u001b[39m\u001b[38;5;124m\"\u001b[39m, \u001b[38;5;28;01mNone\u001b[39;00m),\n\u001b[0;32m   1714\u001b[0m )\n\u001b[0;32m   1715\u001b[0m \u001b[38;5;28;01massert\u001b[39;00m \u001b[38;5;28mself\u001b[39m\u001b[38;5;241m.\u001b[39mhandles \u001b[38;5;129;01mis\u001b[39;00m \u001b[38;5;129;01mnot\u001b[39;00m \u001b[38;5;28;01mNone\u001b[39;00m\n\u001b[0;32m   1716\u001b[0m f \u001b[38;5;241m=\u001b[39m \u001b[38;5;28mself\u001b[39m\u001b[38;5;241m.\u001b[39mhandles\u001b[38;5;241m.\u001b[39mhandle\n",
      "File \u001b[1;32m~\\anaconda3\\Lib\\site-packages\\pandas\\io\\common.py:863\u001b[0m, in \u001b[0;36mget_handle\u001b[1;34m(path_or_buf, mode, encoding, compression, memory_map, is_text, errors, storage_options)\u001b[0m\n\u001b[0;32m    858\u001b[0m \u001b[38;5;28;01melif\u001b[39;00m \u001b[38;5;28misinstance\u001b[39m(handle, \u001b[38;5;28mstr\u001b[39m):\n\u001b[0;32m    859\u001b[0m     \u001b[38;5;66;03m# Check whether the filename is to be opened in binary mode.\u001b[39;00m\n\u001b[0;32m    860\u001b[0m     \u001b[38;5;66;03m# Binary mode does not support 'encoding' and 'newline'.\u001b[39;00m\n\u001b[0;32m    861\u001b[0m     \u001b[38;5;28;01mif\u001b[39;00m ioargs\u001b[38;5;241m.\u001b[39mencoding \u001b[38;5;129;01mand\u001b[39;00m \u001b[38;5;124m\"\u001b[39m\u001b[38;5;124mb\u001b[39m\u001b[38;5;124m\"\u001b[39m \u001b[38;5;129;01mnot\u001b[39;00m \u001b[38;5;129;01min\u001b[39;00m ioargs\u001b[38;5;241m.\u001b[39mmode:\n\u001b[0;32m    862\u001b[0m         \u001b[38;5;66;03m# Encoding\u001b[39;00m\n\u001b[1;32m--> 863\u001b[0m         handle \u001b[38;5;241m=\u001b[39m \u001b[38;5;28mopen\u001b[39m(\n\u001b[0;32m    864\u001b[0m             handle,\n\u001b[0;32m    865\u001b[0m             ioargs\u001b[38;5;241m.\u001b[39mmode,\n\u001b[0;32m    866\u001b[0m             encoding\u001b[38;5;241m=\u001b[39mioargs\u001b[38;5;241m.\u001b[39mencoding,\n\u001b[0;32m    867\u001b[0m             errors\u001b[38;5;241m=\u001b[39merrors,\n\u001b[0;32m    868\u001b[0m             newline\u001b[38;5;241m=\u001b[39m\u001b[38;5;124m\"\u001b[39m\u001b[38;5;124m\"\u001b[39m,\n\u001b[0;32m    869\u001b[0m         )\n\u001b[0;32m    870\u001b[0m     \u001b[38;5;28;01melse\u001b[39;00m:\n\u001b[0;32m    871\u001b[0m         \u001b[38;5;66;03m# Binary mode\u001b[39;00m\n\u001b[0;32m    872\u001b[0m         handle \u001b[38;5;241m=\u001b[39m \u001b[38;5;28mopen\u001b[39m(handle, ioargs\u001b[38;5;241m.\u001b[39mmode)\n",
      "\u001b[1;31mFileNotFoundError\u001b[0m: [Errno 2] No such file or directory: 'car_data.csv'"
     ]
    }
   ],
   "source": [
    "df = pd.read_csv('car_data.csv')\n",
    "df.head()"
   ]
  },
  {
   "cell_type": "code",
   "execution_count": null,
   "id": "f9a3f0f0",
   "metadata": {},
   "outputs": [],
   "source": [
    "df.isnull().sum()"
   ]
  },
  {
   "cell_type": "markdown",
   "id": "4c8700ae",
   "metadata": {},
   "source": [
    "*Not sure if required"
   ]
  },
  {
   "cell_type": "code",
   "execution_count": null,
   "id": "d256ab00",
   "metadata": {},
   "outputs": [],
   "source": [
    "df_copy = df.copy(deep = True) \n",
    "df_copy[['Weight','Horsepower','Number of cylinders','Mileage']] = df_copy[['Weight','Horsepower','Number of cylinders','Mileage']].replace(0,np.NaN)\n",
    "\n",
    "# Showing the Count of NANs\n",
    "print(df_copy.isnull().sum())"
   ]
  },
  {
   "cell_type": "code",
   "execution_count": null,
   "id": "e4dc60b0",
   "metadata": {},
   "outputs": [],
   "source": [
    "sns.boxplot(x=df[\"Weight\"])"
   ]
  },
  {
   "cell_type": "code",
   "execution_count": null,
   "id": "97daa57d",
   "metadata": {},
   "outputs": [],
   "source": [
    "sns.boxplot(x=df[\"Horsepower\"])"
   ]
  },
  {
   "cell_type": "code",
   "execution_count": null,
   "id": "23f52f2e",
   "metadata": {},
   "outputs": [],
   "source": [
    "sns.countplot(data=df, x='Number of cylinders')"
   ]
  },
  {
   "cell_type": "code",
   "execution_count": null,
   "id": "78b012f4",
   "metadata": {},
   "outputs": [],
   "source": [
    "sns.boxplot(x=df[\"Mileage\"])"
   ]
  },
  {
   "cell_type": "code",
   "execution_count": null,
   "id": "10344860",
   "metadata": {},
   "outputs": [],
   "source": [
    "sns.heatmap(df.corr(), fmt='.2g')"
   ]
  },
  {
   "cell_type": "markdown",
   "id": "eeee1af4",
   "metadata": {},
   "source": [
    "**Normalizing**\n"
   ]
  },
  {
   "cell_type": "code",
   "execution_count": null,
   "id": "fa789391",
   "metadata": {},
   "outputs": [],
   "source": [
    "df_norm = (df - df.mean()) / df.std()\n",
    "df_norm.head()"
   ]
  },
  {
   "cell_type": "code",
   "execution_count": null,
   "id": "7caa42eb",
   "metadata": {},
   "outputs": [],
   "source": [
    "X = df_norm.drop('Mileage', axis=1)\n",
    "y = df_norm['Mileage']"
   ]
  },
  {
   "cell_type": "code",
   "execution_count": null,
   "id": "9c9c6eef",
   "metadata": {},
   "outputs": [],
   "source": [
    "from sklearn.model_selection import train_test_split\n",
    "X_train, X_test, y_train, y_test = train_test_split(X, y, test_size=0.2, random_state=42)"
   ]
  },
  {
   "cell_type": "markdown",
   "id": "73eb909b",
   "metadata": {},
   "source": [
    "**Implementing Linear Regresion(Using Gradient Descent)**\n"
   ]
  },
  {
   "cell_type": "code",
   "execution_count": null,
   "id": "90d8fc85",
   "metadata": {},
   "outputs": [],
   "source": [
    "def hypothesis(X, theta):\n",
    "    return np.dot(X, theta)"
   ]
  },
  {
   "cell_type": "code",
   "execution_count": null,
   "id": "e11a26ee",
   "metadata": {},
   "outputs": [],
   "source": [
    "# Function to calculate the cost (mean squared error)\n",
    "def cost_function(X, y, theta):\n",
    "    m = len(y)\n",
    "    predictions = hypothesis(X, theta)\n",
    "    cost = (1 / (2 * m)) * np.sum(np.square(predictions - y))\n",
    "    return cost"
   ]
  },
  {
   "cell_type": "code",
   "execution_count": null,
   "id": "058b8606",
   "metadata": {},
   "outputs": [],
   "source": [
    "# Function to perform batch gradient descent\n",
    "def gradient_descent(X, y, theta, learning_rate, iterations):\n",
    "    m = len(y)\n",
    "    cost_history = np.zeros(iterations)\n",
    "    for i in range(iterations):\n",
    "        predictions = hypothesis(X, theta)\n",
    "        error = predictions - y\n",
    "        gradient = (1 / m) * np.dot(X.T, error)\n",
    "        theta -= learning_rate * gradient\n",
    "        cost_history[i] = cost_function(X, y, theta)\n",
    "    return theta, cost_history"
   ]
  },
  {
   "cell_type": "code",
   "execution_count": null,
   "id": "8c7d6e02",
   "metadata": {},
   "outputs": [],
   "source": [
    "theta = np.zeros(4)\n",
    "learning_rate = 0.01\n",
    "iterations = 1000"
   ]
  },
  {
   "cell_type": "code",
   "execution_count": null,
   "id": "1fc0fae4",
   "metadata": {},
   "outputs": [],
   "source": [
    "# Adding bias column\n",
    "X_train = np.c_[np.ones(X_train.shape[0]), X_train]"
   ]
  },
  {
   "cell_type": "code",
   "execution_count": null,
   "id": "ef2993be",
   "metadata": {},
   "outputs": [],
   "source": [
    "theta_final, cost_history = gradient_descent(X_train, y_train, theta, learning_rate, iterations)"
   ]
  },
  {
   "cell_type": "code",
   "execution_count": null,
   "id": "1fab4740",
   "metadata": {},
   "outputs": [],
   "source": [
    "# Calculate RMSE on training set\n",
    "predictions_train = hypothesis(X_train, theta_final)\n",
    "rmse_train = np.sqrt(np.mean(np.square(predictions_train - y_train)))\n",
    "print(\"RMSE on training set:\", rmse_train)"
   ]
  },
  {
   "cell_type": "code",
   "execution_count": null,
   "id": "379bb5dc",
   "metadata": {},
   "outputs": [],
   "source": [
    "# Adding bias column\n",
    "X_test = np.c_[np.ones(X_test.shape[0]), X_test]"
   ]
  },
  {
   "cell_type": "code",
   "execution_count": null,
   "id": "53b84c8f",
   "metadata": {},
   "outputs": [],
   "source": [
    "# Calculate RMSE on testing set\n",
    "predictions_test = hypothesis(X_test, theta_final)\n",
    "rmse_test = np.sqrt(np.mean(np.square(predictions_test - y_test)))\n",
    "print(\"RMSE on testing set:\", rmse_test)"
   ]
  },
  {
   "cell_type": "code",
   "execution_count": null,
   "id": "db6da159",
   "metadata": {},
   "outputs": [],
   "source": [
    "new_data_point = np.array([1, 3000, 150, 6])"
   ]
  },
  {
   "cell_type": "code",
   "execution_count": null,
   "id": "e81813d4",
   "metadata": {},
   "outputs": [],
   "source": [
    "mean_weight = df['Weight'].mean()\n",
    "std_weight = df['Weight'].std()\n",
    "\n",
    "mean_horsepower = df['Horsepower'].mean()\n",
    "std_horsepower = df['Horsepower'].std()\n",
    "\n",
    "mean_cylinders = df['Number of cylinders'].mean()\n",
    "std_cylinders = df['Number of cylinders'].std()"
   ]
  },
  {
   "cell_type": "markdown",
   "id": "7b5719c0",
   "metadata": {},
   "source": [
    "**Predicting for a New DataPoint**\n"
   ]
  },
  {
   "cell_type": "code",
   "execution_count": null,
   "id": "cfe1325e",
   "metadata": {},
   "outputs": [],
   "source": [
    "new_dp = np.array([1, (new_data_point[1] - mean_weight) / std_weight,\n",
    "                   (new_data_point[2] - mean_horsepower) / std_horsepower,\n",
    "                   (new_data_point[3] - mean_cylinders) / std_cylinders])"
   ]
  },
  {
   "cell_type": "code",
   "execution_count": null,
   "id": "35d2c731",
   "metadata": {},
   "outputs": [],
   "source": [
    "# Optionally for shorthand\n",
    "new_dp = np.array([1, (3000 - df['Weight'].mean()) / df['Weight'].std(),\n",
    "                    (150 - df['Horsepower'].mean()) / df['Horsepower'].std(),\n",
    "                    (6 - df['Number of cylinders'].mean()) / df['Number of cylinders'].std()])"
   ]
  },
  {
   "cell_type": "code",
   "execution_count": null,
   "id": "fa7d21f0",
   "metadata": {},
   "outputs": [],
   "source": [
    "predicted_mileage = hypothesis(new_dp, theta_final)\n",
    "print(\"Predicted mileage:\", predicted_mileage)"
   ]
  },
  {
   "cell_type": "markdown",
   "id": "926536ec",
   "metadata": {},
   "source": [
    "**Plotting**"
   ]
  },
  {
   "cell_type": "code",
   "execution_count": null,
   "id": "ae88a319",
   "metadata": {},
   "outputs": [],
   "source": [
    "plt.figure(figsize=(8, 6))\n",
    "plt.scatter(y_test, y_test, color='blue', label='Actual')\n",
    "plt.scatter(y_test, predictions_test, color='green', label='Predicted')\n",
    "plt.plot(y_test, y_test, color='red')\n",
    "plt.title('Actual vs Predicted Mileages')\n",
    "plt.xlabel('Actual Mileage')\n",
    "plt.ylabel('Predicted Mileage')\n",
    "plt.show()"
   ]
  },
  {
   "cell_type": "code",
   "execution_count": null,
   "id": "2e9b9f7e",
   "metadata": {},
   "outputs": [],
   "source": [
    "import scipy.stats as stats\n",
    "z = np.abs(stats.zscore(df))\n",
    "data_clean = df[(z<3).all(axis=1)]\n",
    "data_clean.shape"
   ]
  },
  {
   "cell_type": "code",
   "execution_count": null,
   "id": "ecb13895",
   "metadata": {},
   "outputs": [],
   "source": [
    "df_norm = (data_clean - data_clean.mean()) / data_clean.std()\n",
    "df_norm.head()"
   ]
  },
  {
   "cell_type": "code",
   "execution_count": null,
   "id": "61010166",
   "metadata": {},
   "outputs": [],
   "source": [
    "from sklearn.model_selection import train_test_split\n",
    "\n",
    "X = df_norm.drop('Mileage', axis=1)\n",
    "y = df_norm['Mileage']\n",
    "\n",
    "X_train, X_test, y_train, y_test = train_test_split(X, y, test_size=0.2, random_state=42)"
   ]
  },
  {
   "cell_type": "code",
   "execution_count": null,
   "id": "65b12775",
   "metadata": {},
   "outputs": [],
   "source": [
    "def hypothesis(X, theta):\n",
    "    return np.dot(X, theta)\n",
    "\n",
    "def cost_function(X, y, theta):\n",
    "    m = len(y)\n",
    "    predictions = hypothesis(X, theta)\n",
    "    cost = (1 / (2 * m)) * np.sum(np.square(predictions - y))\n",
    "    return cost\n",
    "\n",
    "def gradient_descent(X, y, theta, learning_rate, iterations):\n",
    "    m = len(y)\n",
    "    cost_history = np.zeros(iterations)\n",
    "    for i in range(iterations):\n",
    "        predictions = hypothesis(X, theta)\n",
    "        error = predictions - y\n",
    "        gradient = (1 / m) * np.dot(X.T, error)\n",
    "        theta -= learning_rate * gradient\n",
    "        cost_history[i] = cost_function(X, y, theta)\n",
    "    return theta, cost_history"
   ]
  },
  {
   "cell_type": "code",
   "execution_count": null,
   "id": "9f24fa86",
   "metadata": {},
   "outputs": [],
   "source": [
    "theta = np.zeros(4)\n",
    "learning_rate = 0.01\n",
    "iterations = 1000"
   ]
  },
  {
   "cell_type": "code",
   "execution_count": null,
   "id": "35950c3a",
   "metadata": {},
   "outputs": [],
   "source": [
    "# Adding bias column\n",
    "X_train = np.c_[np.ones(X_train.shape[0]), X_train]"
   ]
  },
  {
   "cell_type": "code",
   "execution_count": null,
   "id": "4973f942",
   "metadata": {},
   "outputs": [],
   "source": [
    "theta_final, cost_history = gradient_descent(X_train, y_train, theta, learning_rate, iterations)"
   ]
  },
  {
   "cell_type": "code",
   "execution_count": null,
   "id": "ec65d0a1",
   "metadata": {},
   "outputs": [],
   "source": [
    "# Calculate RMSE on training set\n",
    "predictions_train = hypothesis(X_train, theta_final)\n",
    "rmse_train = np.sqrt(np.mean(np.square(predictions_train - y_train)))\n",
    "print(\"RMSE on training set:\", rmse_train)"
   ]
  },
  {
   "cell_type": "code",
   "execution_count": null,
   "id": "4b88b418",
   "metadata": {},
   "outputs": [],
   "source": [
    "# Adding bias column\n",
    "X_test = np.c_[np.ones(X_test.shape[0]), X_test]"
   ]
  },
  {
   "cell_type": "code",
   "execution_count": null,
   "id": "d50bb852",
   "metadata": {},
   "outputs": [],
   "source": [
    "# Calculate RMSE on testing set\n",
    "predictions_test = hypothesis(X_test, theta_final)\n",
    "rmse_test = np.sqrt(np.mean(np.square(predictions_test - y_test)))\n",
    "print(\"RMSE on testing set:\", rmse_test)"
   ]
  },
  {
   "cell_type": "code",
   "execution_count": null,
   "id": "7cb762c7",
   "metadata": {},
   "outputs": [],
   "source": [
    "new_data_point = np.array([1, 3000, 150, 6])\n",
    "\n",
    "new_dp = np.array([1, (3000 - df['Weight'].mean()) / df['Weight'].std(),\n",
    "                    (150 - df['Horsepower'].mean()) / df['Horsepower'].std(),\n",
    "                    (6 - df['Number of cylinders'].mean()) / df['Number of cylinders'].std()])"
   ]
  },
  {
   "cell_type": "code",
   "execution_count": null,
   "id": "accac13e",
   "metadata": {},
   "outputs": [],
   "source": [
    "predicted_mileage = hypothesis(new_dp, theta_final)\n",
    "print(\"Predicted mileage:\", predicted_mileage)"
   ]
  },
  {
   "cell_type": "code",
   "execution_count": null,
   "id": "4d321288",
   "metadata": {},
   "outputs": [],
   "source": [
    "plt.figure(figsize=(8, 6))\n",
    "plt.scatter(y_test, y_test, color='blue', label='Actual')\n",
    "plt.scatter(y_test, predictions_test, color='green', label='Predicted')\n",
    "plt.plot(y_test, y_test, color='red')\n",
    "plt.title('Actual vs Predicted Mileages')\n",
    "plt.xlabel('Actual Mileage')\n",
    "plt.ylabel('Predicted Mileage')\n",
    "plt.show()"
   ]
  }
 ],
 "metadata": {
  "kernelspec": {
   "display_name": "Python 3 (ipykernel)",
   "language": "python",
   "name": "python3"
  },
  "language_info": {
   "codemirror_mode": {
    "name": "ipython",
    "version": 3
   },
   "file_extension": ".py",
   "mimetype": "text/x-python",
   "name": "python",
   "nbconvert_exporter": "python",
   "pygments_lexer": "ipython3",
   "version": "3.11.4"
  }
 },
 "nbformat": 4,
 "nbformat_minor": 5
}
