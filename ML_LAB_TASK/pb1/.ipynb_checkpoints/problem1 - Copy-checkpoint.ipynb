{
 "cells": [
  {
   "cell_type": "code",
   "execution_count": 48,
   "id": "9f4d135c",
   "metadata": {},
   "outputs": [],
   "source": [
    "import pandas as pd\n",
    "import matplotlib.pyplot as plt\n",
    "import seaborn as sns\n",
    "import numpy as np\n",
    "sns.set_theme(color_codes = True)"
   ]
  },
  {
   "cell_type": "code",
   "execution_count": 49,
   "id": "998fd809",
   "metadata": {},
   "outputs": [
    {
     "data": {
      "text/html": [
       "<div>\n",
       "<style scoped>\n",
       "    .dataframe tbody tr th:only-of-type {\n",
       "        vertical-align: middle;\n",
       "    }\n",
       "\n",
       "    .dataframe tbody tr th {\n",
       "        vertical-align: top;\n",
       "    }\n",
       "\n",
       "    .dataframe thead th {\n",
       "        text-align: right;\n",
       "    }\n",
       "</style>\n",
       "<table border=\"1\" class=\"dataframe\">\n",
       "  <thead>\n",
       "    <tr style=\"text-align: right;\">\n",
       "      <th></th>\n",
       "      <th>Weight</th>\n",
       "      <th>Horsepower</th>\n",
       "      <th>Number of cylinders</th>\n",
       "      <th>Mileage</th>\n",
       "    </tr>\n",
       "  </thead>\n",
       "  <tbody>\n",
       "    <tr>\n",
       "      <th>0</th>\n",
       "      <td>3123.620357</td>\n",
       "      <td>54.714378</td>\n",
       "      <td>7</td>\n",
       "      <td>-15.987429</td>\n",
       "    </tr>\n",
       "    <tr>\n",
       "      <th>1</th>\n",
       "      <td>4852.142919</td>\n",
       "      <td>145.461562</td>\n",
       "      <td>7</td>\n",
       "      <td>-20.027300</td>\n",
       "    </tr>\n",
       "    <tr>\n",
       "      <th>2</th>\n",
       "      <td>4195.981825</td>\n",
       "      <td>97.153397</td>\n",
       "      <td>6</td>\n",
       "      <td>-12.446144</td>\n",
       "    </tr>\n",
       "    <tr>\n",
       "      <th>3</th>\n",
       "      <td>3795.975453</td>\n",
       "      <td>126.285604</td>\n",
       "      <td>4</td>\n",
       "      <td>-2.016606</td>\n",
       "    </tr>\n",
       "    <tr>\n",
       "      <th>4</th>\n",
       "      <td>2468.055921</td>\n",
       "      <td>186.134971</td>\n",
       "      <td>7</td>\n",
       "      <td>-11.190111</td>\n",
       "    </tr>\n",
       "  </tbody>\n",
       "</table>\n",
       "</div>"
      ],
      "text/plain": [
       "        Weight  Horsepower  Number of cylinders    Mileage\n",
       "0  3123.620357   54.714378                    7 -15.987429\n",
       "1  4852.142919  145.461562                    7 -20.027300\n",
       "2  4195.981825   97.153397                    6 -12.446144\n",
       "3  3795.975453  126.285604                    4  -2.016606\n",
       "4  2468.055921  186.134971                    7 -11.190111"
      ]
     },
     "execution_count": 49,
     "metadata": {},
     "output_type": "execute_result"
    }
   ],
   "source": [
    "data = pd.read_csv('car_data.csv')\n",
    "data.head()"
   ]
  },
  {
   "cell_type": "code",
   "execution_count": 50,
   "id": "2ea13474",
   "metadata": {},
   "outputs": [
    {
     "data": {
      "text/plain": [
       "Weight                 0\n",
       "Horsepower             0\n",
       "Number of cylinders    0\n",
       "Mileage                0\n",
       "dtype: int64"
      ]
     },
     "execution_count": 50,
     "metadata": {},
     "output_type": "execute_result"
    }
   ],
   "source": [
    "data.isnull().sum()"
   ]
  },
  {
   "cell_type": "code",
   "execution_count": 52,
   "id": "44f474d4",
   "metadata": {},
   "outputs": [
    {
     "name": "stderr",
     "output_type": "stream",
     "text": [
      "C:\\Users\\sjkar\\anaconda3\\Lib\\site-packages\\seaborn\\_oldcore.py:1498: FutureWarning: is_categorical_dtype is deprecated and will be removed in a future version. Use isinstance(dtype, CategoricalDtype) instead\n",
      "  if pd.api.types.is_categorical_dtype(vector):\n"
     ]
    },
    {
     "data": {
      "text/plain": [
       "<Axes: xlabel='Weight'>"
      ]
     },
     "execution_count": 52,
     "metadata": {},
     "output_type": "execute_result"
    },
    {
     "data": {
      "image/png": "[encoded data removed]",
      "text/plain": [
       "<Figure size 640x480 with 1 Axes>"
      ]
     },
     "metadata": {},
     "output_type": "display_data"
    }
   ],
   "source": [
    "sns.boxplot(x=df[\"Weight\"])"
   ]
  },
  {
   "cell_type": "code",
   "execution_count": 53,
   "id": "e587a719",
   "metadata": {},
   "outputs": [
    {
     "name": "stderr",
     "output_type": "stream",
     "text": [
      "C:\\Users\\sjkar\\anaconda3\\Lib\\site-packages\\seaborn\\_oldcore.py:1498: FutureWarning: is_categorical_dtype is deprecated and will be removed in a future version. Use isinstance(dtype, CategoricalDtype) instead\n",
      "  if pd.api.types.is_categorical_dtype(vector):\n"
     ]
    },
    {
     "data": {
      "text/plain": [
       "<Axes: xlabel='Horsepower'>"
      ]
     },
     "execution_count": 53,
     "metadata": {},
     "output_type": "execute_result"
    },
    {
     "data": {
      "image/png": "[encoded data removed]",
      "text/plain": [
       "<Figure size 640x480 with 1 Axes>"
      ]
     },
     "metadata": {},
     "output_type": "display_data"
    }
   ],
   "source": [
    "sns.boxplot(x=df[\"Horsepower\"])"
   ]
  },
  {
   "cell_type": "code",
   "execution_count": 55,
   "id": "ab651798",
   "metadata": {},
   "outputs": [
    {
     "name": "stderr",
     "output_type": "stream",
     "text": [
      "C:\\Users\\sjkar\\anaconda3\\Lib\\site-packages\\seaborn\\_oldcore.py:1498: FutureWarning: is_categorical_dtype is deprecated and will be removed in a future version. Use isinstance(dtype, CategoricalDtype) instead\n",
      "  if pd.api.types.is_categorical_dtype(vector):\n"
     ]
    },
    {
     "data": {
      "text/plain": [
       "<Axes: xlabel='Mileage'>"
      ]
     },
     "execution_count": 55,
     "metadata": {},
     "output_type": "execute_result"
    },
    {
     "data": {
      "image/png": "[encoded data removed]",
      "text/plain": [
       "<Figure size 640x480 with 1 Axes>"
      ]
     },
     "metadata": {},
     "output_type": "display_data"
    }
   ],
   "source": [
    "sns.boxplot(x=df[\"Mileage\"])"
   ]
  },
  {
   "cell_type": "code",
   "execution_count": 57,
   "id": "0d3f4613",
   "metadata": {},
   "outputs": [
    {
     "data": {
      "text/html": [
       "<div>\n",
       "<style scoped>\n",
       "    .dataframe tbody tr th:only-of-type {\n",
       "        vertical-align: middle;\n",
       "    }\n",
       "\n",
       "    .dataframe tbody tr th {\n",
       "        vertical-align: top;\n",
       "    }\n",
       "\n",
       "    .dataframe thead th {\n",
       "        text-align: right;\n",
       "    }\n",
       "</style>\n",
       "<table border=\"1\" class=\"dataframe\">\n",
       "  <thead>\n",
       "    <tr style=\"text-align: right;\">\n",
       "      <th></th>\n",
       "      <th>Weight</th>\n",
       "      <th>Horsepower</th>\n",
       "      <th>Number of cylinders</th>\n",
       "      <th>Mileage</th>\n",
       "    </tr>\n",
       "  </thead>\n",
       "  <tbody>\n",
       "    <tr>\n",
       "      <th>0</th>\n",
       "      <td>-0.321493</td>\n",
       "      <td>-1.591213</td>\n",
       "      <td>1.183599</td>\n",
       "      <td>-1.031539</td>\n",
       "    </tr>\n",
       "    <tr>\n",
       "      <th>1</th>\n",
       "      <td>1.615296</td>\n",
       "      <td>0.472785</td>\n",
       "      <td>1.183599</td>\n",
       "      <td>-1.652898</td>\n",
       "    </tr>\n",
       "    <tr>\n",
       "      <th>2</th>\n",
       "      <td>0.880076</td>\n",
       "      <td>-0.625959</td>\n",
       "      <td>0.355907</td>\n",
       "      <td>-0.486866</td>\n",
       "    </tr>\n",
       "    <tr>\n",
       "      <th>3</th>\n",
       "      <td>0.431873</td>\n",
       "      <td>0.036638</td>\n",
       "      <td>-1.299476</td>\n",
       "      <td>1.117266</td>\n",
       "    </tr>\n",
       "    <tr>\n",
       "      <th>4</th>\n",
       "      <td>-1.056045</td>\n",
       "      <td>1.397881</td>\n",
       "      <td>1.183599</td>\n",
       "      <td>-0.293680</td>\n",
       "    </tr>\n",
       "  </tbody>\n",
       "</table>\n",
       "</div>"
      ],
      "text/plain": [
       "     Weight  Horsepower  Number of cylinders   Mileage\n",
       "0 -0.321493   -1.591213             1.183599 -1.031539\n",
       "1  1.615296    0.472785             1.183599 -1.652898\n",
       "2  0.880076   -0.625959             0.355907 -0.486866\n",
       "3  0.431873    0.036638            -1.299476  1.117266\n",
       "4 -1.056045    1.397881             1.183599 -0.293680"
      ]
     },
     "execution_count": 57,
     "metadata": {},
     "output_type": "execute_result"
    }
   ],
   "source": [
    "df_norm = (df - df.mean()) / df.std()\n",
    "df_norm.head()"
   ]
  },
  {
   "cell_type": "code",
   "execution_count": 58,
   "id": "34f5f3a8",
   "metadata": {},
   "outputs": [],
   "source": [
    "X = df_norm.drop('Mileage', axis=1)\n",
    "y = df_norm['Mileage']"
   ]
  },
  {
   "cell_type": "code",
   "execution_count": 59,
   "id": "5a9f08e8",
   "metadata": {},
   "outputs": [],
   "source": [
    "from sklearn.model_selection import train_test_split\n",
    "X_train, X_test, y_train, y_test = train_test_split(X, y, test_size=0.2, random_state=42)"
   ]
  },
  {
   "cell_type": "code",
   "execution_count": 60,
   "id": "0ebd3e7f",
   "metadata": {},
   "outputs": [],
   "source": [
    "def hypothesis(X, theta):\n",
    "    return np.dot(X, theta)"
   ]
  },
  {
   "cell_type": "code",
   "execution_count": 61,
   "id": "3a4ade45",
   "metadata": {},
   "outputs": [],
   "source": [
    "# Function to calculate the cost (mean squared error)\n",
    "def cost_function(X, y, theta):\n",
    "    m = len(y)\n",
    "    predictions = hypothesis(X, theta)\n",
    "    cost = (1 / (2 * m)) * np.sum(np.square(predictions - y))\n",
    "    return cost"
   ]
  },
  {
   "cell_type": "code",
   "execution_count": 62,
   "id": "c7464bdc",
   "metadata": {},
   "outputs": [],
   "source": [
    "# Function to perform batch gradient descent\n",
    "def gradient_descent(X, y, theta, learning_rate, iterations):\n",
    "    m = len(y)\n",
    "    cost_history = np.zeros(iterations)\n",
    "    for i in range(iterations):\n",
    "        predictions = hypothesis(X, theta)\n",
    "        error = predictions - y\n",
    "        gradient = (1 / m) * np.dot(X.T, error)\n",
    "        theta -= learning_rate * gradient\n",
    "        cost_history[i] = cost_function(X, y, theta)\n",
    "    return theta, cost_history"
   ]
  },
  {
   "cell_type": "code",
   "execution_count": 63,
   "id": "d8bbde08",
   "metadata": {},
   "outputs": [],
   "source": [
    "theta = np.zeros(4)\n",
    "learning_rate = 0.01\n",
    "iterations = 1000"
   ]
  },
  {
   "cell_type": "code",
   "execution_count": 64,
   "id": "ac0379f1",
   "metadata": {},
   "outputs": [],
   "source": [
    "# Adding bias column\n",
    "X_train = np.c_[np.ones(X_train.shape[0]), X_train]"
   ]
  },
  {
   "cell_type": "code",
   "execution_count": 65,
   "id": "54350e13",
   "metadata": {},
   "outputs": [],
   "source": [
    "theta_final, cost_history = gradient_descent(X_train, y_train, theta, learning_rate, iterations)"
   ]
  },
  {
   "cell_type": "code",
   "execution_count": 66,
   "id": "d2f2d992",
   "metadata": {},
   "outputs": [
    {
     "name": "stdout",
     "output_type": "stream",
     "text": [
      "RMSE on training set: 0.8609909358636338\n"
     ]
    }
   ],
   "source": [
    "# Calculate RMSE on training set\n",
    "predictions_train = hypothesis(X_train, theta_final)\n",
    "rmse_train = np.sqrt(np.mean(np.square(predictions_train - y_train)))\n",
    "print(\"RMSE on training set:\", rmse_train)"
   ]
  },
  {
   "cell_type": "code",
   "execution_count": 67,
   "id": "99dfbd66",
   "metadata": {},
   "outputs": [],
   "source": [
    "# Adding bias column\n",
    "X_test = np.c_[np.ones(X_test.shape[0]), X_test]"
   ]
  },
  {
   "cell_type": "code",
   "execution_count": 68,
   "id": "d2499520",
   "metadata": {},
   "outputs": [
    {
     "name": "stdout",
     "output_type": "stream",
     "text": [
      "RMSE on testing set: 0.5654652566917723\n"
     ]
    }
   ],
   "source": [
    "# Calculate RMSE on testing set\n",
    "predictions_test = hypothesis(X_test, theta_final)\n",
    "rmse_test = np.sqrt(np.mean(np.square(predictions_test - y_test)))\n",
    "print(\"RMSE on testing set:\", rmse_test)"
   ]
  },
  {
   "cell_type": "code",
   "execution_count": 69,
   "id": "328e0e28",
   "metadata": {},
   "outputs": [],
   "source": [
    "new_data_point = np.array([1, 3000, 150, 6])"
   ]
  },
  {
   "cell_type": "code",
   "execution_count": 70,
   "id": "84f3c81d",
   "metadata": {},
   "outputs": [],
   "source": [
    "mean_weight = df['Weight'].mean()\n",
    "std_weight = df['Weight'].std()\n",
    "\n",
    "mean_horsepower = df['Horsepower'].mean()\n",
    "std_horsepower = df['Horsepower'].std()\n",
    "\n",
    "mean_cylinders = df['Number of cylinders'].mean()\n",
    "std_cylinders = df['Number of cylinders'].std()"
   ]
  },
  {
   "cell_type": "markdown",
   "id": "39f1db3a",
   "metadata": {},
   "source": [
    "**Predicting for a New DataPoint**\n"
   ]
  },
  {
   "cell_type": "code",
   "execution_count": 71,
   "id": "8e80086a",
   "metadata": {},
   "outputs": [],
   "source": [
    "new_dp = np.array([1, (new_data_point[1] - mean_weight) / std_weight,\n",
    "                   (new_data_point[2] - mean_horsepower) / std_horsepower,\n",
    "                   (new_data_point[3] - mean_cylinders) / std_cylinders])"
   ]
  },
  {
   "cell_type": "code",
   "execution_count": 72,
   "id": "2be14fe0",
   "metadata": {},
   "outputs": [],
   "source": [
    "# Optionally for shorthand\n",
    "new_dp = np.array([1, (3000 - df['Weight'].mean()) / df['Weight'].std(),\n",
    "                    (150 - df['Horsepower'].mean()) / df['Horsepower'].std(),\n",
    "                    (6 - df['Number of cylinders'].mean()) / df['Number of cylinders'].std()])"
   ]
  },
  {
   "cell_type": "code",
   "execution_count": 73,
   "id": "dd5c6892",
   "metadata": {},
   "outputs": [
    {
     "name": "stdout",
     "output_type": "stream",
     "text": [
      "Predicted mileage: -0.06261989474615536\n"
     ]
    }
   ],
   "source": [
    "predicted_mileage = hypothesis(new_dp, theta_final)\n",
    "print(\"Predicted mileage:\", predicted_mileage)"
   ]
  },
  {
   "cell_type": "markdown",
   "id": "f2fea323",
   "metadata": {},
   "source": [
    "**Plotting**"
   ]
  },
  {
   "cell_type": "code",
   "execution_count": 88,
   "id": "79792f19",
   "metadata": {},
   "outputs": [
    {
     "data": {
      "image/png": "[encoded data removed]",
      "text/plain": [
       "<Figure size 800x600 with 1 Axes>"
      ]
     },
     "metadata": {},
     "output_type": "display_data"
    }
   ],
   "source": [
    "plt.figure(figsize=(8, 6))\n",
    "plt.scatter(y_test, predictions_test, color='blue', label='Actual vs Predicted')\n",
    "plt.scatter(y_test, y_test, color='red', label='Reference Line')\n",
    "plt.title('Actual vs Predicted Mileages')\n",
    "plt.xlabel('Actual Mileage')\n",
    "plt.ylabel('Predicted Mileage')\n",
    "plt.legend()\n",
    "plt.show()"
   ]
  }
 ],
 "metadata": {
  "kernelspec": {
   "display_name": "Python 3 (ipykernel)",
   "language": "python",
   "name": "python3"
  },
  "language_info": {
   "codemirror_mode": {
    "name": "ipython",
    "version": 3
   },
   "file_extension": ".py",
   "mimetype": "text/x-python",
   "name": "python",
   "nbconvert_exporter": "python",
   "pygments_lexer": "ipython3",
   "version": "3.11.4"
  }
 },
 "nbformat": 4,
 "nbformat_minor": 5
}
